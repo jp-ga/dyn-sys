{
 "cells": [
  {
   "cell_type": "code",
   "execution_count": 1,
   "id": "0d7e9d27-a605-426d-b2c1-6ea0817f3979",
   "metadata": {},
   "outputs": [],
   "source": [
    "import numpy as np\n",
    "from matplotlib import pyplot as plt\n",
    "from scipy import integrate\n",
    "from ipywidgets import interactive, fixed"
   ]
  },
  {
   "cell_type": "code",
   "execution_count": 2,
   "id": "0b8d29f3-04ea-47b7-9868-f81cbdb616ab",
   "metadata": {},
   "outputs": [],
   "source": [
    "def solve_lorenz(sigma=10.0, beta=8./3, rho=28.0):\n",
    "    \"\"\"Plot a solution to the Lorenz differential equations.\"\"\"\n",
    "\n",
    "    max_time = 100\n",
    "\n",
    "    fig = plt.figure()\n",
    "    ax = fig.add_axes([0, 0, 1, 1], projection='3d')\n",
    "    #ax.axis('off')\n",
    "\n",
    "    # prepare the axes limits\n",
    "    #ax.set_xlim((-25, 25))\n",
    "    #ax.set_ylim((-35, 35))\n",
    "    #ax.set_zlim((5, 55))\n",
    "    ax.set_xlabel('x')\n",
    "    ax.set_ylabel('y')\n",
    "    ax.set_zlabel('z')\n",
    "    \n",
    "    def lorenz_deriv(t, x_y_z, sigma=sigma, beta=beta, rho=rho):\n",
    "        \"\"\"Compute the time-derivative of a Lorenz system.\"\"\"\n",
    "        x, y, z = x_y_z\n",
    "        return np.array([sigma * (y - x), x * (rho - z) - y, x * y - beta * z])\n",
    "\n",
    "    # Choose random starting points, uniformly distributed from -15 to 15\n",
    "    np.random.seed(1)\n",
    "    #x0 = -15 + 30 * np.random.random((N, 3))\n",
    "    sqrt = np.sqrt(beta*(rho-1))\n",
    "    c_p1 = np.array([sqrt, sqrt, rho-1])+np.random.random(3)\n",
    "    delta = np.random.random(3)*1e-10\n",
    "    c_p2 = c_p1 + delta\n",
    "    \n",
    "    # Solve for the trajectories\n",
    "    t = np.linspace(0, max_time, int(250*max_time))\n",
    "    x_t_rk = integrate.solve_ivp(lorenz_deriv, (np.min(t), np.max(t)), c_p1, method='RK45', t_eval=t)\n",
    "    x_t_rk = x_t_rk.y\n",
    "    x_t_radau = integrate.solve_ivp(lorenz_deriv, (np.min(t), np.max(t)), c_p2, method='RK45', t_eval=t)\n",
    "    x_t_radau = x_t_radau.y\n",
    "    \n",
    "    # choose a different color for each trajectory\n",
    "    #colors = ('blue', 'orange')#plt.cm.viridis(np.linspace(0, 1, 2))\n",
    "\n",
    "    #for i in range(2):\n",
    "    x, y, z = x_t_rk\n",
    "    lines = ax.plot(x, y, z, '-', label='initial condition 1')#, c=colors[i])\n",
    "    plt.setp(lines, linewidth=0.5)\n",
    "    x, y, z = x_t_radau\n",
    "    lines = ax.plot(x, y, z, '-', label='initial condition 2')#, c=colors[i])\n",
    "    plt.setp(lines, linewidth=0.5)\n",
    "    ax.scatter(sqrt, sqrt, rho-1, color='black', s=50, label=r'$C_+$')\n",
    "    ax.scatter(*c_p1.T, color='green', s=50, label=r'$x_0$')\n",
    "    \n",
    "    angle = 104\n",
    "    ax.view_init(30, angle)\n",
    "    plt.legend()\n",
    "    plt.show()\n",
    "    \n",
    "    rel_disc = np.sqrt(np.sum((c_p2-c_p1)**2))/np.sqrt(np.sum(delta**2))\n",
    "\n",
    "    return t, x_t_rk"
   ]
  },
  {
   "cell_type": "code",
   "execution_count": 3,
   "id": "6dfb5c75-09c2-4ea3-a28c-64bb411ec5cd",
   "metadata": {},
   "outputs": [
    {
     "data": {
      "application/vnd.jupyter.widget-view+json": {
       "model_id": "fd52a12801bc4f6e8c54fb98bfd28c5e",
       "version_major": 2,
       "version_minor": 0
      },
      "text/plain": [
       "interactive(children=(FloatSlider(value=10.0, description='sigma', max=30.0, min=-10.0), FloatSlider(value=2.6…"
      ]
     },
     "metadata": {},
     "output_type": "display_data"
    }
   ],
   "source": [
    "w=interactive(solve_lorenz,rho=(0.0,50.000))\n",
    "w"
   ]
  },
  {
   "cell_type": "code",
   "execution_count": 4,
   "id": "e42c9de3-5f8b-40e0-8b5b-a6b6d17cf50b",
   "metadata": {},
   "outputs": [],
   "source": [
    "def solve_lorenz(sigma=10.0, beta=8./3, rho=28.0):\n",
    "    \"\"\"Plot a solution to the Lorenz differential equations.\"\"\"\n",
    "\n",
    "    max_time = 100\n",
    "\n",
    "    fig, ax = plt.subplots()\n",
    "    \n",
    "    def lorenz_deriv(t, x_y_z, sigma=sigma, beta=beta, rho=rho):\n",
    "        \"\"\"Compute the time-derivative of a Lorenz system.\"\"\"\n",
    "        x, y, z = x_y_z\n",
    "        return np.array([sigma * (y - x), x * (rho - z) - y, x * y - beta * z])\n",
    "\n",
    "    # Choose random starting points, uniformly distributed from -15 to 15\n",
    "    np.random.seed(1)\n",
    "    #x0 = -15 + 30 * np.random.random((N, 3))\n",
    "    sqrt = np.sqrt(beta*(rho-1))\n",
    "    c_p1 = np.array([sqrt, sqrt, rho-1])+np.random.random(3)\n",
    "    delta = np.random.random(3)*1e-10\n",
    "    c_p2 = c_p1 + delta\n",
    "    \n",
    "    # Solve for the trajectories\n",
    "    t = np.linspace(0, max_time, int(250*max_time))\n",
    "    x_t_rk = integrate.solve_ivp(lorenz_deriv, (np.min(t), np.max(t)), c_p1, method='RK45', t_eval=t)\n",
    "    x_t_rk = x_t_rk.y\n",
    "    x_t_radau = integrate.solve_ivp(lorenz_deriv, (np.min(t), np.max(t)), c_p2, method='RK45', t_eval=t)\n",
    "    x_t_radau = x_t_radau.y\n",
    "    \n",
    "    # choose a different color for each trajectory\n",
    "    #colors = ('blue', 'orange')#plt.cm.viridis(np.linspace(0, 1, 2))\n",
    "\n",
    "    #for i in range(2):    \n",
    "    rel_disc = np.sqrt(np.sum((x_t_rk-x_t_radau)**2, axis=0))/np.sqrt(np.sum(delta**2))\n",
    "    #rel_disc = \n",
    "    ax.plot(t, rel_disc)\n",
    "    #ax.set_xlim(18,42)\n",
    "    ax.set_yscale('log')\n",
    "\n",
    "    return t, x_t_rk"
   ]
  },
  {
   "cell_type": "code",
   "execution_count": 5,
   "id": "172bc31d-2fe9-42a6-a1cf-5ae265dee8a5",
   "metadata": {},
   "outputs": [
    {
     "data": {
      "application/vnd.jupyter.widget-view+json": {
       "model_id": "78027b7d668d4b7cad5390075c1c2ef3",
       "version_major": 2,
       "version_minor": 0
      },
      "text/plain": [
       "interactive(children=(FloatSlider(value=10.0, description='sigma', max=50.0), FloatSlider(value=2.666666666666…"
      ]
     },
     "metadata": {},
     "output_type": "display_data"
    }
   ],
   "source": [
    "w=interactive(solve_lorenz,sigma=(0.0,50.000),rho=(0.0,50.000))\n",
    "w"
   ]
  },
  {
   "cell_type": "code",
   "execution_count": null,
   "id": "2abbac2c-5f86-402b-9cf3-7cd60633c5e6",
   "metadata": {},
   "outputs": [],
   "source": []
  }
 ],
 "metadata": {
  "kernelspec": {
   "display_name": "Python 3 (ipykernel)",
   "language": "python",
   "name": "python3"
  },
  "language_info": {
   "codemirror_mode": {
    "name": "ipython",
    "version": 3
   },
   "file_extension": ".py",
   "mimetype": "text/x-python",
   "name": "python",
   "nbconvert_exporter": "python",
   "pygments_lexer": "ipython3",
   "version": "3.9.10"
  }
 },
 "nbformat": 4,
 "nbformat_minor": 5
}
