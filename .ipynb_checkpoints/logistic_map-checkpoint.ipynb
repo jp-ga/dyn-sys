{
 "cells": [
  {
   "cell_type": "markdown",
   "id": "af162a46-91fc-46d9-a255-2cf6a53ec0d7",
   "metadata": {},
   "source": [
    "J.P. Gonzalez-Aguilera<br>\n",
    "January 2022"
   ]
  },
  {
   "cell_type": "markdown",
   "id": "aa111a3d-cad4-492f-a13d-23cf5405b0c6",
   "metadata": {},
   "source": [
    "# Logistic map "
   ]
  },
  {
   "cell_type": "markdown",
   "id": "039fbdcd-cac1-4f0e-86a3-0958c94ad88a",
   "metadata": {},
   "source": [
    "The logistic map is given by the difference equation:\n",
    "\\begin{equation}\n",
    "    N_{t+1}=r N_t(1-N_t).\n",
    "\\end{equation}\n",
    "Let's draw the Cobweb diagram for $r\\in\\{2,\\ 2.5,\\ 3,\\ 3.25,\\ 3.5,\\ 3.57\\}$."
   ]
  },
  {
   "cell_type": "code",
   "execution_count": 1,
   "id": "0a20f5e6-e3ee-466d-91f7-1f811ff52efe",
   "metadata": {},
   "outputs": [],
   "source": [
    "from ipywidgets import interactive\n",
    "import matplotlib.pyplot as plt\n",
    "import numpy as np"
   ]
  },
  {
   "cell_type": "code",
   "execution_count": 2,
   "id": "b16ca339-0470-47da-8db4-8475c6cd0e3e",
   "metadata": {},
   "outputs": [],
   "source": [
    "def nt1(r,n_t):\n",
    "    return r*n_t*(1.0-n_t)\n",
    "def web(r,n0,Nit):\n",
    "    w = np.empty((Nit,2))\n",
    "    w[0,0]=n0\n",
    "    w[0,1]=0\n",
    "    w[1,0]=n0\n",
    "    w[1,1]=nt1(r, n0)\n",
    "    for i in range(2,Nit-1,2):\n",
    "        x=w[i-1,1]\n",
    "        fx=nt1(r, x)\n",
    "        w[i,0] = x\n",
    "        w[i,1] = x\n",
    "        w[i+1,0] = x\n",
    "        w[i+1,1] = fx\n",
    "    return w"
   ]
  },
  {
   "cell_type": "code",
   "execution_count": 13,
   "id": "c1d17692-ccf3-4b4e-b3d6-d3b7a3f1cd65",
   "metadata": {},
   "outputs": [
    {
     "data": {
      "application/vnd.jupyter.widget-view+json": {
       "model_id": "58a302305d58444596271725cd52aa83",
       "version_major": 2,
       "version_minor": 0
      },
      "text/plain": [
       "interactive(children=(FloatSlider(value=3.0, description='r', max=4.0, min=2.0, step=0.01), FloatSlider(value=…"
      ]
     },
     "metadata": {},
     "output_type": "display_data"
    }
   ],
   "source": [
    "x = np.linspace(0,1,1000)\n",
    "Nit=100000\n",
    "def update(r, n0):\n",
    "    fig, ax = plt.subplots(1,2, sharey=True)\n",
    "    ax[0].set_xlim([0,1])\n",
    "    ax[0].set_ylim([0,1])\n",
    "    ax[0].set_xlabel('$N_t$')\n",
    "    ax[0].set_ylabel('$N_{t+1}$')\n",
    "    ax[0].plot(x, nt1(r,x))\n",
    "    ax[0].plot(x,x)\n",
    "    #ax[0].set_aspect(1)\n",
    "    w=web(r,n0,Nit)\n",
    "    ax[0].plot(w[:,0],w[:,1],'g',linewidth=1)\n",
    "    #ax[1] = ax[0].twiny()\n",
    "    ax[1].plot(range(0,int(Nit/2)),w[::2,0])\n",
    "    #ax[1].set_axis_off()\n",
    "    ax[1].set_ylim([0,1])\n",
    "    ax[1].set_xlim([0,32])\n",
    "    ax[1].set_xlabel('$t$')\n",
    "    #ax[1].set_aspect(10)\n",
    "    plt.show()\n",
    "\n",
    "interactive_plot = interactive(update, r=(2.00, 4.00,0.01), n0=(0.0,1.0,0.01))\n",
    "output = interactive_plot.children[-1]\n",
    "interactive_plot"
   ]
  },
  {
   "cell_type": "code",
   "execution_count": 4,
   "id": "7f1a2d5f-5cce-4476-a237-3370e0788283",
   "metadata": {},
   "outputs": [
    {
     "data": {
      "text/plain": [
       "Text(0, 0.5, '$4/\\\\omega\\\\cdot df(\\\\phi)/d\\\\phi$')"
      ]
     },
     "execution_count": 4,
     "metadata": {},
     "output_type": "execute_result"
    },
    {
     "data": {
      "image/png": "[encoded data removed]",
      "text/plain": [
       "<Figure size 432x288 with 2 Axes>"
      ]
     },
     "metadata": {
      "needs_background": "light"
     },
     "output_type": "display_data"
    }
   ],
   "source": [
    "import matplotlib.ticker as tck\n",
    "epsilon=np.pi/3/10\n",
    "def f(phi):\n",
    "    return np.sqrt(4-1/np.cos(phi)**2)\n",
    "phi=np.linspace(-np.pi/3,np.pi/3,1000)\n",
    "fig, (ax1,ax2) = plt.subplots(2,1)\n",
    "line = ax1.plot(phi,f(phi), 'blue',linewidth=2)[0]\n",
    "line.set_clip_on(False)\n",
    "thetaticks=[-np.pi/3,0,np.pi/3]\n",
    "ticks=['-π / 3','0','π / 3']\n",
    "ax1.set_xticks(thetaticks,ticks)\n",
    "ax1.set_xlim([-np.pi/3-epsilon,np.pi/3+epsilon])\n",
    "ax1.set_ylim([0,2])\n",
    "ax1.set_ylabel('$4/\\omega\\cdot f(\\phi)$')\n",
    "df=np.gradient(f(phi),phi)\n",
    "ax2.plot(phi,df, 'blue',linewidth=2)\n",
    "ax2.set_xticks(thetaticks,ticks)\n",
    "ax2.set_xlim([-np.pi/3-epsilon,np.pi/3+epsilon])\n",
    "ax2.axvline(-np.pi/3, color='black', linewidth=0.5)\n",
    "ax2.axvline(+np.pi/3, color='black', linewidth=0.5)\n",
    "ax2.set_ylim([-20,20])\n",
    "ax2.set_ylabel('$4/\\omega\\cdot df(\\phi)/d\\phi$')"
   ]
  },
  {
   "cell_type": "code",
   "execution_count": null,
   "id": "64102f18-e9f9-40d8-9086-8b6a548a3005",
   "metadata": {},
   "outputs": [],
   "source": []
  }
 ],
 "metadata": {
  "kernelspec": {
   "display_name": "Python 3 (ipykernel)",
   "language": "python",
   "name": "python3"
  },
  "language_info": {
   "codemirror_mode": {
    "name": "ipython",
    "version": 3
   },
   "file_extension": ".py",
   "mimetype": "text/x-python",
   "name": "python",
   "nbconvert_exporter": "python",
   "pygments_lexer": "ipython3",
   "version": "3.9.10"
  }
 },
 "nbformat": 4,
 "nbformat_minor": 5
}
