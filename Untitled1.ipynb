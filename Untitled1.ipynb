{
 "cells": [
  {
   "cell_type": "code",
   "execution_count": 9,
   "id": "026ac4fc-c0b5-48f3-8d5d-50796b6af4c0",
   "metadata": {},
   "outputs": [],
   "source": [
    "import numpy as np\n",
    "import matplotlib.pyplot as plt"
   ]
  },
  {
   "cell_type": "code",
   "execution_count": 45,
   "id": "fd334337-f414-43ec-a1f2-4b1fa2f51364",
   "metadata": {},
   "outputs": [],
   "source": [
    "a=1.1\n",
    "m=100"
   ]
  },
  {
   "cell_type": "code",
   "execution_count": 46,
   "id": "28506df0-ea38-4dcc-aa5d-d1a2236b99fe",
   "metadata": {},
   "outputs": [],
   "source": [
    "def f(xy):\n",
    "    global a\n",
    "    global m\n",
    "    x = xy[0]\n",
    "    y = xy[1]\n",
    "    return np.array([m*(y-x**3/3+x), 1/m*(a-x)])"
   ]
  },
  {
   "cell_type": "code",
   "execution_count": null,
   "id": "57df57fe-0927-48d9-88b0-28cf95bb7167",
   "metadata": {},
   "outputs": [],
   "source": []
  },
  {
   "cell_type": "code",
   "execution_count": 50,
   "id": "26b1d019-0485-46ce-a6f2-5d650244c3dd",
   "metadata": {},
   "outputs": [
    {
     "data": {
      "text/plain": [
       "Text(0, 0.5, 'y')"
      ]
     },
     "execution_count": 50,
     "metadata": {},
     "output_type": "execute_result"
    },
    {
     "data": {
      "image/png": "[encoded data removed]",
      "text/plain": [
       "<Figure size 432x288 with 1 Axes>"
      ]
     },
     "metadata": {
      "needs_background": "light"
     },
     "output_type": "display_data"
    }
   ],
   "source": [
    "fig, ax = plt.subplots()\n",
    "ax.set_aspect('equal')\n",
    "ax.set_xlim(-5,5)\n",
    "ax.set_ylim(-5,5)\n",
    "n_line = 300000\n",
    "delta_t = 0.001\n",
    "xy = np.empty((n_line,2))\n",
    "xy[0] = np.array([1.5,-1.8])\n",
    "for k in range(n_line-1):\n",
    "    k1 = f(xy[k]) * delta_t\n",
    "    k2 = f(xy[k] + 1/2 * k1) * delta_t\n",
    "    k3 = f(xy[k] + 1/2 * k2) * delta_t\n",
    "    k4 = f(xy[k] + k3) * delta_t\n",
    "    xy[k+1] = xy[k] + 1/6 * (k1 + 2*k2 + 2*k3 + k4)\n",
    "ax.plot(xy[:,0],xy[:,1],'b', linewidth=0.5)\n",
    "ax.set_xlabel('x')\n",
    "ax.set_ylabel('y')"
   ]
  },
  {
   "cell_type": "code",
   "execution_count": null,
   "id": "0d393656-7415-4334-ba7a-4410e36ad0a8",
   "metadata": {},
   "outputs": [],
   "source": []
  },
  {
   "cell_type": "code",
   "execution_count": null,
   "id": "26432f78-f750-4b28-92b1-2b0bbff89b11",
   "metadata": {},
   "outputs": [],
   "source": []
  }
 ],
 "metadata": {
  "kernelspec": {
   "display_name": "Python 3 (ipykernel)",
   "language": "python",
   "name": "python3"
  },
  "language_info": {
   "codemirror_mode": {
    "name": "ipython",
    "version": 3
   },
   "file_extension": ".py",
   "mimetype": "text/x-python",
   "name": "python",
   "nbconvert_exporter": "python",
   "pygments_lexer": "ipython3",
   "version": "3.9.10"
  }
 },
 "nbformat": 4,
 "nbformat_minor": 5
}
