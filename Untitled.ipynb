{
 "cells": [
  {
   "cell_type": "code",
   "execution_count": 1,
   "id": "2e2cded0-4083-496a-b7ca-1d432ea39360",
   "metadata": {},
   "outputs": [],
   "source": [
    "import numpy as np\n",
    "import matplotlib.pyplot as plt"
   ]
  },
  {
   "cell_type": "code",
   "execution_count": 124,
   "id": "6c1c2117-25aa-4999-9fd9-c73e29bc8408",
   "metadata": {},
   "outputs": [
    {
     "data": {
      "text/plain": [
       "-2.5"
      ]
     },
     "execution_count": 124,
     "metadata": {},
     "output_type": "execute_result"
    }
   ],
   "source": [
    "n_grid = 5\n",
    "grid_x = np.linspace(-5,5,n_grid)\n",
    "grid_y = -5+10*np.random.rand(n_grid)\n",
    "x0,y0 = np.meshgrid(grid_x, grid_x) # grid[0] are the x components and grid[1] are the y components. grid[:,i] is the it\n",
    "x0[1,1]"
   ]
  },
  {
   "cell_type": "code",
   "execution_count": 125,
   "id": "bfc2a589-596c-464b-bde9-6fb2c78dd7e3",
   "metadata": {},
   "outputs": [
    {
     "data": {
      "text/plain": [
       "array([0.8234109 , 0.51906468])"
      ]
     },
     "execution_count": 125,
     "metadata": {},
     "output_type": "execute_result"
    }
   ],
   "source": [
    "xy = np.random.rand(100,2)\n",
    "xy[5]"
   ]
  },
  {
   "cell_type": "code",
   "execution_count": 126,
   "id": "ba725af8-f7cf-4136-8b13-3db3d9a561fb",
   "metadata": {},
   "outputs": [],
   "source": [
    "def f(x):\n",
    "    return np.array([x[0]*x[1], x[0]**2-x[1]])"
   ]
  },
  {
   "cell_type": "code",
   "execution_count": 131,
   "id": "6a4e013d-6ee1-4261-a9ce-f02a8f9a6206",
   "metadata": {},
   "outputs": [
    {
     "name": "stderr",
     "output_type": "stream",
     "text": [
      "/var/folders/4z/9l_r5w4j0716ckrsr_m2v8zh0000gn/T/ipykernel_5972/3338380907.py:2: RuntimeWarning: overflow encountered in double_scalars\n",
      "  return np.array([x[0]*x[1], x[0]**2-x[1]])\n",
      "/var/folders/4z/9l_r5w4j0716ckrsr_m2v8zh0000gn/T/ipykernel_5972/3338380907.py:2: RuntimeWarning: invalid value encountered in double_scalars\n",
      "  return np.array([x[0]*x[1], x[0]**2-x[1]])\n",
      "/var/folders/4z/9l_r5w4j0716ckrsr_m2v8zh0000gn/T/ipykernel_5972/3338380907.py:2: RuntimeWarning: overflow encountered in double_scalars\n",
      "  return np.array([x[0]*x[1], x[0]**2-x[1]])\n",
      "/var/folders/4z/9l_r5w4j0716ckrsr_m2v8zh0000gn/T/ipykernel_5972/3338380907.py:2: RuntimeWarning: overflow encountered in double_scalars\n",
      "  return np.array([x[0]*x[1], x[0]**2-x[1]])\n",
      "/var/folders/4z/9l_r5w4j0716ckrsr_m2v8zh0000gn/T/ipykernel_5972/3338380907.py:2: RuntimeWarning: invalid value encountered in double_scalars\n",
      "  return np.array([x[0]*x[1], x[0]**2-x[1]])\n",
      "/var/folders/4z/9l_r5w4j0716ckrsr_m2v8zh0000gn/T/ipykernel_5972/3338380907.py:2: RuntimeWarning: overflow encountered in double_scalars\n",
      "  return np.array([x[0]*x[1], x[0]**2-x[1]])\n",
      "/var/folders/4z/9l_r5w4j0716ckrsr_m2v8zh0000gn/T/ipykernel_5972/386558928.py:22: RuntimeWarning: overflow encountered in add\n",
      "  k2 = f(xy[k] + 1/2 * k1) * -delta_t\n",
      "/var/folders/4z/9l_r5w4j0716ckrsr_m2v8zh0000gn/T/ipykernel_5972/3338380907.py:2: RuntimeWarning: invalid value encountered in double_scalars\n",
      "  return np.array([x[0]*x[1], x[0]**2-x[1]])\n",
      "/var/folders/4z/9l_r5w4j0716ckrsr_m2v8zh0000gn/T/ipykernel_5972/3338380907.py:2: RuntimeWarning: overflow encountered in double_scalars\n",
      "  return np.array([x[0]*x[1], x[0]**2-x[1]])\n",
      "/var/folders/4z/9l_r5w4j0716ckrsr_m2v8zh0000gn/T/ipykernel_5972/3338380907.py:2: RuntimeWarning: invalid value encountered in double_scalars\n",
      "  return np.array([x[0]*x[1], x[0]**2-x[1]])\n",
      "/var/folders/4z/9l_r5w4j0716ckrsr_m2v8zh0000gn/T/ipykernel_5972/3338380907.py:2: RuntimeWarning: overflow encountered in double_scalars\n",
      "  return np.array([x[0]*x[1], x[0]**2-x[1]])\n",
      "/var/folders/4z/9l_r5w4j0716ckrsr_m2v8zh0000gn/T/ipykernel_5972/3338380907.py:2: RuntimeWarning: overflow encountered in double_scalars\n",
      "  return np.array([x[0]*x[1], x[0]**2-x[1]])\n",
      "/var/folders/4z/9l_r5w4j0716ckrsr_m2v8zh0000gn/T/ipykernel_5972/3338380907.py:2: RuntimeWarning: invalid value encountered in double_scalars\n",
      "  return np.array([x[0]*x[1], x[0]**2-x[1]])\n",
      "/var/folders/4z/9l_r5w4j0716ckrsr_m2v8zh0000gn/T/ipykernel_5972/3338380907.py:2: RuntimeWarning: overflow encountered in double_scalars\n",
      "  return np.array([x[0]*x[1], x[0]**2-x[1]])\n",
      "/var/folders/4z/9l_r5w4j0716ckrsr_m2v8zh0000gn/T/ipykernel_5972/3338380907.py:2: RuntimeWarning: overflow encountered in double_scalars\n",
      "  return np.array([x[0]*x[1], x[0]**2-x[1]])\n",
      "/var/folders/4z/9l_r5w4j0716ckrsr_m2v8zh0000gn/T/ipykernel_5972/3338380907.py:2: RuntimeWarning: invalid value encountered in double_scalars\n",
      "  return np.array([x[0]*x[1], x[0]**2-x[1]])\n",
      "/var/folders/4z/9l_r5w4j0716ckrsr_m2v8zh0000gn/T/ipykernel_5972/3338380907.py:2: RuntimeWarning: overflow encountered in double_scalars\n",
      "  return np.array([x[0]*x[1], x[0]**2-x[1]])\n",
      "/var/folders/4z/9l_r5w4j0716ckrsr_m2v8zh0000gn/T/ipykernel_5972/3338380907.py:2: RuntimeWarning: overflow encountered in double_scalars\n",
      "  return np.array([x[0]*x[1], x[0]**2-x[1]])\n",
      "/var/folders/4z/9l_r5w4j0716ckrsr_m2v8zh0000gn/T/ipykernel_5972/3338380907.py:2: RuntimeWarning: invalid value encountered in double_scalars\n",
      "  return np.array([x[0]*x[1], x[0]**2-x[1]])\n",
      "/var/folders/4z/9l_r5w4j0716ckrsr_m2v8zh0000gn/T/ipykernel_5972/3338380907.py:2: RuntimeWarning: overflow encountered in double_scalars\n",
      "  return np.array([x[0]*x[1], x[0]**2-x[1]])\n",
      "/var/folders/4z/9l_r5w4j0716ckrsr_m2v8zh0000gn/T/ipykernel_5972/386558928.py:24: RuntimeWarning: overflow encountered in add\n",
      "  k4 = f(xy[k] + k3) * -delta_t\n",
      "/var/folders/4z/9l_r5w4j0716ckrsr_m2v8zh0000gn/T/ipykernel_5972/3338380907.py:2: RuntimeWarning: invalid value encountered in double_scalars\n",
      "  return np.array([x[0]*x[1], x[0]**2-x[1]])\n",
      "/var/folders/4z/9l_r5w4j0716ckrsr_m2v8zh0000gn/T/ipykernel_5972/3338380907.py:2: RuntimeWarning: overflow encountered in double_scalars\n",
      "  return np.array([x[0]*x[1], x[0]**2-x[1]])\n",
      "/var/folders/4z/9l_r5w4j0716ckrsr_m2v8zh0000gn/T/ipykernel_5972/3338380907.py:2: RuntimeWarning: invalid value encountered in double_scalars\n",
      "  return np.array([x[0]*x[1], x[0]**2-x[1]])\n",
      "/var/folders/4z/9l_r5w4j0716ckrsr_m2v8zh0000gn/T/ipykernel_5972/3338380907.py:2: RuntimeWarning: overflow encountered in double_scalars\n",
      "  return np.array([x[0]*x[1], x[0]**2-x[1]])\n",
      "/var/folders/4z/9l_r5w4j0716ckrsr_m2v8zh0000gn/T/ipykernel_5972/3338380907.py:2: RuntimeWarning: overflow encountered in double_scalars\n",
      "  return np.array([x[0]*x[1], x[0]**2-x[1]])\n",
      "/var/folders/4z/9l_r5w4j0716ckrsr_m2v8zh0000gn/T/ipykernel_5972/3338380907.py:2: RuntimeWarning: invalid value encountered in double_scalars\n",
      "  return np.array([x[0]*x[1], x[0]**2-x[1]])\n",
      "/var/folders/4z/9l_r5w4j0716ckrsr_m2v8zh0000gn/T/ipykernel_5972/3338380907.py:2: RuntimeWarning: overflow encountered in double_scalars\n",
      "  return np.array([x[0]*x[1], x[0]**2-x[1]])\n",
      "/var/folders/4z/9l_r5w4j0716ckrsr_m2v8zh0000gn/T/ipykernel_5972/3338380907.py:2: RuntimeWarning: overflow encountered in double_scalars\n",
      "  return np.array([x[0]*x[1], x[0]**2-x[1]])\n",
      "/var/folders/4z/9l_r5w4j0716ckrsr_m2v8zh0000gn/T/ipykernel_5972/3338380907.py:2: RuntimeWarning: invalid value encountered in double_scalars\n",
      "  return np.array([x[0]*x[1], x[0]**2-x[1]])\n",
      "/var/folders/4z/9l_r5w4j0716ckrsr_m2v8zh0000gn/T/ipykernel_5972/3338380907.py:2: RuntimeWarning: overflow encountered in double_scalars\n",
      "  return np.array([x[0]*x[1], x[0]**2-x[1]])\n",
      "/var/folders/4z/9l_r5w4j0716ckrsr_m2v8zh0000gn/T/ipykernel_5972/3338380907.py:2: RuntimeWarning: overflow encountered in double_scalars\n",
      "  return np.array([x[0]*x[1], x[0]**2-x[1]])\n",
      "/var/folders/4z/9l_r5w4j0716ckrsr_m2v8zh0000gn/T/ipykernel_5972/3338380907.py:2: RuntimeWarning: invalid value encountered in double_scalars\n",
      "  return np.array([x[0]*x[1], x[0]**2-x[1]])\n",
      "/var/folders/4z/9l_r5w4j0716ckrsr_m2v8zh0000gn/T/ipykernel_5972/3338380907.py:2: RuntimeWarning: overflow encountered in double_scalars\n",
      "  return np.array([x[0]*x[1], x[0]**2-x[1]])\n",
      "/var/folders/4z/9l_r5w4j0716ckrsr_m2v8zh0000gn/T/ipykernel_5972/3338380907.py:2: RuntimeWarning: overflow encountered in double_scalars\n",
      "  return np.array([x[0]*x[1], x[0]**2-x[1]])\n",
      "/var/folders/4z/9l_r5w4j0716ckrsr_m2v8zh0000gn/T/ipykernel_5972/3338380907.py:2: RuntimeWarning: invalid value encountered in double_scalars\n",
      "  return np.array([x[0]*x[1], x[0]**2-x[1]])\n",
      "/var/folders/4z/9l_r5w4j0716ckrsr_m2v8zh0000gn/T/ipykernel_5972/3338380907.py:2: RuntimeWarning: overflow encountered in double_scalars\n",
      "  return np.array([x[0]*x[1], x[0]**2-x[1]])\n",
      "/var/folders/4z/9l_r5w4j0716ckrsr_m2v8zh0000gn/T/ipykernel_5972/3338380907.py:2: RuntimeWarning: overflow encountered in double_scalars\n",
      "  return np.array([x[0]*x[1], x[0]**2-x[1]])\n",
      "/var/folders/4z/9l_r5w4j0716ckrsr_m2v8zh0000gn/T/ipykernel_5972/3338380907.py:2: RuntimeWarning: invalid value encountered in double_scalars\n",
      "  return np.array([x[0]*x[1], x[0]**2-x[1]])\n",
      "/var/folders/4z/9l_r5w4j0716ckrsr_m2v8zh0000gn/T/ipykernel_5972/3338380907.py:2: RuntimeWarning: overflow encountered in double_scalars\n",
      "  return np.array([x[0]*x[1], x[0]**2-x[1]])\n",
      "/var/folders/4z/9l_r5w4j0716ckrsr_m2v8zh0000gn/T/ipykernel_5972/3338380907.py:2: RuntimeWarning: overflow encountered in double_scalars\n",
      "  return np.array([x[0]*x[1], x[0]**2-x[1]])\n",
      "/var/folders/4z/9l_r5w4j0716ckrsr_m2v8zh0000gn/T/ipykernel_5972/3338380907.py:2: RuntimeWarning: invalid value encountered in double_scalars\n",
      "  return np.array([x[0]*x[1], x[0]**2-x[1]])\n",
      "/var/folders/4z/9l_r5w4j0716ckrsr_m2v8zh0000gn/T/ipykernel_5972/3338380907.py:2: RuntimeWarning: overflow encountered in double_scalars\n",
      "  return np.array([x[0]*x[1], x[0]**2-x[1]])\n",
      "/var/folders/4z/9l_r5w4j0716ckrsr_m2v8zh0000gn/T/ipykernel_5972/3338380907.py:2: RuntimeWarning: overflow encountered in double_scalars\n",
      "  return np.array([x[0]*x[1], x[0]**2-x[1]])\n",
      "/var/folders/4z/9l_r5w4j0716ckrsr_m2v8zh0000gn/T/ipykernel_5972/3338380907.py:2: RuntimeWarning: invalid value encountered in double_scalars\n",
      "  return np.array([x[0]*x[1], x[0]**2-x[1]])\n",
      "/var/folders/4z/9l_r5w4j0716ckrsr_m2v8zh0000gn/T/ipykernel_5972/3338380907.py:2: RuntimeWarning: overflow encountered in double_scalars\n",
      "  return np.array([x[0]*x[1], x[0]**2-x[1]])\n",
      "/var/folders/4z/9l_r5w4j0716ckrsr_m2v8zh0000gn/T/ipykernel_5972/386558928.py:24: RuntimeWarning: overflow encountered in add\n",
      "  k4 = f(xy[k] + k3) * -delta_t\n",
      "/var/folders/4z/9l_r5w4j0716ckrsr_m2v8zh0000gn/T/ipykernel_5972/3338380907.py:2: RuntimeWarning: invalid value encountered in double_scalars\n",
      "  return np.array([x[0]*x[1], x[0]**2-x[1]])\n",
      "/var/folders/4z/9l_r5w4j0716ckrsr_m2v8zh0000gn/T/ipykernel_5972/3338380907.py:2: RuntimeWarning: overflow encountered in double_scalars\n",
      "  return np.array([x[0]*x[1], x[0]**2-x[1]])\n",
      "/var/folders/4z/9l_r5w4j0716ckrsr_m2v8zh0000gn/T/ipykernel_5972/3338380907.py:2: RuntimeWarning: invalid value encountered in double_scalars\n",
      "  return np.array([x[0]*x[1], x[0]**2-x[1]])\n",
      "/var/folders/4z/9l_r5w4j0716ckrsr_m2v8zh0000gn/T/ipykernel_5972/3338380907.py:2: RuntimeWarning: overflow encountered in double_scalars\n",
      "  return np.array([x[0]*x[1], x[0]**2-x[1]])\n",
      "/var/folders/4z/9l_r5w4j0716ckrsr_m2v8zh0000gn/T/ipykernel_5972/3338380907.py:2: RuntimeWarning: overflow encountered in double_scalars\n",
      "  return np.array([x[0]*x[1], x[0]**2-x[1]])\n",
      "/var/folders/4z/9l_r5w4j0716ckrsr_m2v8zh0000gn/T/ipykernel_5972/3338380907.py:2: RuntimeWarning: invalid value encountered in double_scalars\n",
      "  return np.array([x[0]*x[1], x[0]**2-x[1]])\n",
      "/var/folders/4z/9l_r5w4j0716ckrsr_m2v8zh0000gn/T/ipykernel_5972/3338380907.py:2: RuntimeWarning: overflow encountered in double_scalars\n",
      "  return np.array([x[0]*x[1], x[0]**2-x[1]])\n",
      "/var/folders/4z/9l_r5w4j0716ckrsr_m2v8zh0000gn/T/ipykernel_5972/3338380907.py:2: RuntimeWarning: overflow encountered in double_scalars\n",
      "  return np.array([x[0]*x[1], x[0]**2-x[1]])\n",
      "/var/folders/4z/9l_r5w4j0716ckrsr_m2v8zh0000gn/T/ipykernel_5972/3338380907.py:2: RuntimeWarning: invalid value encountered in double_scalars\n",
      "  return np.array([x[0]*x[1], x[0]**2-x[1]])\n",
      "/var/folders/4z/9l_r5w4j0716ckrsr_m2v8zh0000gn/T/ipykernel_5972/3338380907.py:2: RuntimeWarning: overflow encountered in double_scalars\n",
      "  return np.array([x[0]*x[1], x[0]**2-x[1]])\n",
      "/var/folders/4z/9l_r5w4j0716ckrsr_m2v8zh0000gn/T/ipykernel_5972/3338380907.py:2: RuntimeWarning: overflow encountered in double_scalars\n",
      "  return np.array([x[0]*x[1], x[0]**2-x[1]])\n",
      "/var/folders/4z/9l_r5w4j0716ckrsr_m2v8zh0000gn/T/ipykernel_5972/3338380907.py:2: RuntimeWarning: invalid value encountered in double_scalars\n",
      "  return np.array([x[0]*x[1], x[0]**2-x[1]])\n",
      "/var/folders/4z/9l_r5w4j0716ckrsr_m2v8zh0000gn/T/ipykernel_5972/3338380907.py:2: RuntimeWarning: overflow encountered in double_scalars\n",
      "  return np.array([x[0]*x[1], x[0]**2-x[1]])\n",
      "/var/folders/4z/9l_r5w4j0716ckrsr_m2v8zh0000gn/T/ipykernel_5972/386558928.py:22: RuntimeWarning: overflow encountered in add\n",
      "  k2 = f(xy[k] + 1/2 * k1) * -delta_t\n",
      "/var/folders/4z/9l_r5w4j0716ckrsr_m2v8zh0000gn/T/ipykernel_5972/3338380907.py:2: RuntimeWarning: invalid value encountered in double_scalars\n",
      "  return np.array([x[0]*x[1], x[0]**2-x[1]])\n",
      "/var/folders/4z/9l_r5w4j0716ckrsr_m2v8zh0000gn/T/ipykernel_5972/3338380907.py:2: RuntimeWarning: overflow encountered in double_scalars\n",
      "  return np.array([x[0]*x[1], x[0]**2-x[1]])\n",
      "/var/folders/4z/9l_r5w4j0716ckrsr_m2v8zh0000gn/T/ipykernel_5972/3338380907.py:2: RuntimeWarning: invalid value encountered in double_scalars\n",
      "  return np.array([x[0]*x[1], x[0]**2-x[1]])\n",
      "/var/folders/4z/9l_r5w4j0716ckrsr_m2v8zh0000gn/T/ipykernel_5972/3338380907.py:2: RuntimeWarning: overflow encountered in double_scalars\n",
      "  return np.array([x[0]*x[1], x[0]**2-x[1]])\n",
      "/var/folders/4z/9l_r5w4j0716ckrsr_m2v8zh0000gn/T/ipykernel_5972/3338380907.py:2: RuntimeWarning: overflow encountered in double_scalars\n",
      "  return np.array([x[0]*x[1], x[0]**2-x[1]])\n",
      "/var/folders/4z/9l_r5w4j0716ckrsr_m2v8zh0000gn/T/ipykernel_5972/3338380907.py:2: RuntimeWarning: invalid value encountered in double_scalars\n",
      "  return np.array([x[0]*x[1], x[0]**2-x[1]])\n",
      "/var/folders/4z/9l_r5w4j0716ckrsr_m2v8zh0000gn/T/ipykernel_5972/3338380907.py:2: RuntimeWarning: overflow encountered in double_scalars\n",
      "  return np.array([x[0]*x[1], x[0]**2-x[1]])\n"
     ]
    },
    {
     "data": {
      "image/png": "[encoded data removed]",
      "text/plain": [
       "<Figure size 432x288 with 1 Axes>"
      ]
     },
     "metadata": {
      "needs_background": "light"
     },
     "output_type": "display_data"
    }
   ],
   "source": [
    "fig, ax = plt.subplots()\n",
    "ax.set_aspect('equal')\n",
    "ax.set_xlim(-5,5)\n",
    "ax.set_ylim(-5,5)\n",
    "\n",
    "n_line = 100000\n",
    "delta_t = 0.01\n",
    "xy = np.empty((n_line,2))\n",
    "for i in range(n_grid):\n",
    "    for j in range(n_grid):\n",
    "        xy[0] = np.array([x0[i,j],y0[i,j]])\n",
    "        for k in range(n_line-1):\n",
    "                k1 = f(xy[k]) * delta_t\n",
    "                k2 = f(xy[k] + 1/2 * k1) * delta_t\n",
    "                k3 = f(xy[k] + 1/2 * k2) * delta_t\n",
    "                k4 = f(xy[k] + k3) * delta_t\n",
    "                xy[k+1] = xy[k] + 1/6 * (k1 + 2*k2 + 2*k3 + k4)\n",
    "        ax.plot(xy[:,0],xy[:,1],'b', linewidth=0.5)\n",
    "        xy[0] = np.array([x0[i,j],y0[i,j]])\n",
    "        for k in range(n_line-1):\n",
    "            k1 = f(xy[k]) * -delta_t\n",
    "            k2 = f(xy[k] + 1/2 * k1) * -delta_t\n",
    "            k3 = f(xy[k] + 1/2 * k2) * -delta_t\n",
    "            k4 = f(xy[k] + k3) * -delta_t\n",
    "            xy[k+1] = xy[k] + 1/6 * (k1 + 2*k2 + 2*k3 + k4)\n",
    "        ax.plot(xy[:,0],xy[:,1],'b',linewidth=0.5)\n",
    "            "
   ]
  },
  {
   "cell_type": "code",
   "execution_count": null,
   "id": "a567f959-6a36-4d9a-9535-ecb6a6b8e635",
   "metadata": {},
   "outputs": [],
   "source": []
  },
  {
   "cell_type": "code",
   "execution_count": null,
   "id": "a6d880bb-0d58-4a52-a611-2f6794c9ec01",
   "metadata": {},
   "outputs": [],
   "source": []
  },
  {
   "cell_type": "code",
   "execution_count": null,
   "id": "d57369d8-fd54-4219-8312-35231c43f754",
   "metadata": {},
   "outputs": [],
   "source": []
  },
  {
   "cell_type": "code",
   "execution_count": null,
   "id": "fe80854c-df6a-4937-93d9-6a415eabde5c",
   "metadata": {},
   "outputs": [],
   "source": []
  },
  {
   "cell_type": "code",
   "execution_count": null,
   "id": "3bac4516-cec3-4024-9895-2f34f3462675",
   "metadata": {},
   "outputs": [],
   "source": []
  },
  {
   "cell_type": "code",
   "execution_count": null,
   "id": "b4ba7226-87cf-4817-b2f9-913c29cf6899",
   "metadata": {},
   "outputs": [],
   "source": []
  },
  {
   "cell_type": "code",
   "execution_count": null,
   "id": "21af5e3e-045f-40e3-9f08-6491faffbea7",
   "metadata": {},
   "outputs": [],
   "source": []
  },
  {
   "cell_type": "code",
   "execution_count": null,
   "id": "de6ac19f-75d9-49e5-99c2-d0c3c07bb2f8",
   "metadata": {},
   "outputs": [],
   "source": []
  },
  {
   "cell_type": "code",
   "execution_count": null,
   "id": "f8c464a0-57be-4d9c-8658-dd7547add3ea",
   "metadata": {},
   "outputs": [],
   "source": []
  },
  {
   "cell_type": "code",
   "execution_count": null,
   "id": "5b9cb781-8c48-434f-8130-cad9ca83cbf3",
   "metadata": {},
   "outputs": [],
   "source": []
  }
 ],
 "metadata": {
  "kernelspec": {
   "display_name": "Python 3 (ipykernel)",
   "language": "python",
   "name": "python3"
  },
  "language_info": {
   "codemirror_mode": {
    "name": "ipython",
    "version": 3
   },
   "file_extension": ".py",
   "mimetype": "text/x-python",
   "name": "python",
   "nbconvert_exporter": "python",
   "pygments_lexer": "ipython3",
   "version": "3.9.10"
  }
 },
 "nbformat": 4,
 "nbformat_minor": 5
}
